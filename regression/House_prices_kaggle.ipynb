{
 "cells": [
  {
   "cell_type": "markdown",
   "id": "39505548",
   "metadata": {},
   "source": [
    "This is a models for a kaggle competition: https://www.kaggle.com/competitions/house-prices-advanced-regression-techniques/"
   ]
  },
  {
   "cell_type": "code",
   "execution_count": null,
   "id": "07c67b10",
   "metadata": {},
   "outputs": [
    {
     "name": "stdout",
     "output_type": "stream",
     "text": [
      "MSE: 4928614938.15\n",
      "R2: -17.08\n"
     ]
    }
   ],
   "source": [
    "import pandas as pd\n",
    "from sklearn.metrics import r2_score, mean_squared_error\n",
    "from sklearn.model_selection import GridSearchCV\n",
    "from catboost import CatBoostRegressor\n",
    "df = (pd.read_csv('../datasets/linear_reg/kaggle_prices_train.csv')).drop(columns=['Id'])\n",
    "y_train=df['SalePrice']\n",
    "x_train=df.drop(columns=['SalePrice'])\n",
    "x_test=(pd.read_csv('../datasets/linear_reg/kaggle_prices_test.csv')).drop(columns=['Id'])\n",
    "y_test=(pd.read_csv('../datasets/linear_reg/sample_submission.csv')).drop(columns=['Id'])\n",
    "id_df=pd.read_csv('../datasets/linear_reg/sample_submission.csv',usecols=['Id'])\n",
    "cat_cols = ['MSZoning', 'Street', 'Alley', 'LandContour', 'Utilities', 'LotConfig', 'Neighborhood','Condition1', 'Condition2', 'BldgType', 'HouseStyle', 'RoofStyle', 'RoofMatl','Exterior1st', 'Exterior2nd', 'MasVnrType', 'Foundation', 'BsmtExposure', 'BsmtFinType1','BsmtFinType2', 'Heating', 'CentralAir', 'Electrical', 'Functional', 'GarageType','GarageFinish', 'PavedDrive', 'Fence', 'MiscFeature', 'SaleType', 'SaleCondition','LotShape', 'LandSlope', 'OverallQual', 'OverallCond', 'ExterQual', 'ExterCond','BsmtQual', 'BsmtCond', 'HeatingQC', 'KitchenQual', 'FireplaceQu','GarageQual', 'GarageCond', 'PoolQC']\n",
    "num_cols=[col for col in x_train.columns if col not in cat_cols]\n",
    "params = {'iterations':[50,75,100,125,150],\n",
    "        'learning_rate':[0.05,0.01],\n",
    "        'depth':[3,5,7,9,12]}\n",
    "x_train_full = x_train.copy()\n",
    "x_test_full = x_test.copy()\n",
    "x_train_full[cat_cols] = x_train_full[cat_cols].fillna('missing')\n",
    "x_train_full[num_cols] = x_train_full[num_cols].fillna(x_train_full[num_cols].mean())\n",
    "x_test_full[cat_cols] = x_test_full[cat_cols].fillna('missing')\n",
    "x_test_full[num_cols] = x_test_full[num_cols].fillna(x_train_full[num_cols].mean())\n",
    "grid = GridSearchCV(CatBoostRegressor(cat_features=cat_cols,loss_function='RMSE',verbose=0),params,cv=5)\n",
    "grid.fit(x_train_full,y_train)\n",
    "model = grid.best_estimator_\n",
    "predictions = model.predict(x_test_full)\n",
    "submission = pd.DataFrame({\n",
    "    'Id':id_df['Id'],\n",
    "    'SalePrice': predictions})\n",
    "submission.to_csv('catboost_submission.csv', index=False, encoding='utf-8')\n",
    "mse=mean_squared_error(y_test,predictions)\n",
    "r2=r2_score(y_test,predictions)\n",
    "print(f'MSE: {mse:.2f}')\n",
    "print(f'R2: {r2:.2f}')"
   ]
  }
 ],
 "metadata": {
  "kernelspec": {
   "display_name": "ml-VNEzfB6C-py3.13",
   "language": "python",
   "name": "python3"
  },
  "language_info": {
   "codemirror_mode": {
    "name": "ipython",
    "version": 3
   },
   "file_extension": ".py",
   "mimetype": "text/x-python",
   "name": "python",
   "nbconvert_exporter": "python",
   "pygments_lexer": "ipython3",
   "version": "3.13.0"
  }
 },
 "nbformat": 4,
 "nbformat_minor": 5
}
