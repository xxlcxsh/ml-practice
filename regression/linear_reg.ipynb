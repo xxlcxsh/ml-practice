{
 "cells": [
  {
   "cell_type": "markdown",
   "id": "a98f638f",
   "metadata": {},
   "source": [
    "Linear regression using sk-learn models and clear numpy using kaggle house prices dataset"
   ]
  },
  {
   "cell_type": "code",
   "execution_count": null,
   "id": "37991e06",
   "metadata": {},
   "outputs": [
    {
     "name": "stdout",
     "output_type": "stream",
     "text": [
      "MSE: 729214703.23\n",
      "R2: 0.88\n",
      "R2 по кросс-валидации (5 фолдов): [0.89102627 0.83833461 0.86566292 0.86973108 0.69180658]\n",
      "Среднее R2: 0.8313122924425926\n"
     ]
    }
   ],
   "source": [
    "from sklearn.model_selection import train_test_split\n",
    "from sklearn.linear_model import LinearRegression,Ridge,ElasticNet,Lasso\n",
    "from sklearn.preprocessing import OrdinalEncoder, OneHotEncoder\n",
    "from sklearn.metrics import accuracy_score\n",
    "from sklearn.compose import ColumnTransformer\n",
    "from sklearn.pipeline import Pipeline\n",
    "from sklearn.metrics import mean_absolute_error, mean_squared_error, r2_score\n",
    "from sklearn.impute import SimpleImputer\n",
    "import pandas as pd\n",
    "from sklearn.model_selection import cross_val_score\n",
    "from sklearn.preprocessing import StandardScaler\n",
    "df = pd.read_csv('datasets/linear_reg/train.csv')\n",
    "df.drop(columns=['Id'])\n",
    "y=df['SalePrice']\n",
    "x=df.drop(columns=['SalePrice'])\n",
    "ordinal_col=['LotShape', 'LandSlope', 'OverallQual', 'OverallCond', 'ExterQual', 'ExterCond',\n",
    "'BsmtQual', 'BsmtCond', 'HeatingQC', 'KitchenQual', 'FireplaceQu','GarageQual', 'GarageCond', 'PoolQC']\n",
    "ordinal_cats = [\n",
    "    ['Missing','IR3', 'IR2', 'IR1', 'Reg'],      # LotShape — порядок от худшего к лучшему\n",
    "    ['Missing','Sev', 'Mod', 'Gtl'],             # LandSlope\n",
    "    list(range(1, 11)),                # OverallQual (1-10)\n",
    "    list(range(1, 11)),                # OverallCond (1-10)\n",
    "    ['Missing','Po', 'Fa', 'TA', 'Gd', 'Ex'],   # ExterQual\n",
    "    ['Missing','Po', 'Fa', 'TA', 'Gd', 'Ex'],   # ExterCond\n",
    "    ['Missing','Po', 'Fa', 'TA', 'Gd', 'Ex'],   # BsmtQual\n",
    "    ['Missing','Po', 'Fa', 'TA', 'Gd', 'Ex'],   # BsmtCond\n",
    "    ['Missing','Po', 'Fa', 'TA', 'Gd', 'Ex'],   # HeatingQC\n",
    "    ['Missing','Po', 'Fa', 'TA', 'Gd', 'Ex'],   # KitchenQual\n",
    "    ['Missing','Po', 'Fa', 'TA', 'Gd', 'Ex'],   # FireplaceQu\n",
    "    ['Missing','Po', 'Fa', 'TA', 'Gd', 'Ex'],   # GarageQual\n",
    "    ['Missing','Po', 'Fa', 'TA', 'Gd', 'Ex'],   # GarageCond\n",
    "    ['Missing','Po', 'Fa', 'TA', 'Gd', 'Ex']    # PoolQC\n",
    "]\n",
    "nominal_col=['MSZoning', 'Street', 'Alley', 'LandContour', 'Utilities', 'LotConfig', 'Neighborhood',\n",
    "'Condition1', 'Condition2', 'BldgType', 'HouseStyle', 'RoofStyle', 'RoofMatl',\n",
    "'Exterior1st', 'Exterior2nd', 'MasVnrType', 'Foundation', 'BsmtExposure', 'BsmtFinType1',\n",
    "'BsmtFinType2', 'Heating', 'CentralAir', 'Electrical', 'Functional', 'GarageType',\n",
    "'GarageFinish', 'PavedDrive', 'Fence', 'MiscFeature', 'SaleType', 'SaleCondition']\n",
    "numeric_col=[col for col in x.columns if col not in ordinal_col + nominal_col]\n",
    "num_pipeline = Pipeline(steps=[\n",
    "    ('imputer', SimpleImputer(strategy='mean')),\n",
    "    ('scaler', StandardScaler())\n",
    "])\n",
    "preprocessor = ColumnTransformer(transformers=[\n",
    "    ('ord', Pipeline([\n",
    "        ('imputer', SimpleImputer(strategy='constant', fill_value='Missing')),\n",
    "        ('encoder', OrdinalEncoder(categories=ordinal_cats))\n",
    "    ]), ordinal_col),\n",
    "    ('nom', Pipeline([\n",
    "        ('imputer', SimpleImputer(strategy='constant', fill_value='Missing')),\n",
    "        ('onehot', OneHotEncoder(handle_unknown='ignore'))\n",
    "    ]), nominal_col),\n",
    "    ('num', num_pipeline, numeric_col)\n",
    "])\n",
    "model=Pipeline([\n",
    "    ('preprocessor',preprocessor),\n",
    "    ('regressor',ElasticNet(alpha=0.2,l1_ratio=0.9,random_state=123,max_iter=10000))])\n",
    "x_train,x_test,y_train,y_test=train_test_split(x,y,test_size=0.2,random_state=123)\n",
    "model.fit(x_train,y_train)\n",
    "y_pred=model.predict(x_test)\n",
    "mse=mean_squared_error(y_test,y_pred)\n",
    "r2=r2_score(y_test,y_pred)\n",
    "print(f'MSE: {mse:.2f}')\n",
    "print(f'R2: {r2:.2f}')\n",
    "scores = cross_val_score(model, x, y, cv=5, scoring='r2')\n",
    "print(\"R2 по кросс-валидации (5 фолдов):\", scores)\n",
    "print(\"Среднее R2:\", scores.mean())"
   ]
  },
  {
   "cell_type": "markdown",
   "id": "2262155e",
   "metadata": {},
   "source": [
    "linear regression based on gradient descent using age-expirence-income dataset"
   ]
  },
  {
   "cell_type": "code",
   "execution_count": null,
   "id": "81e8ad3c",
   "metadata": {},
   "outputs": [],
   "source": [
    "import numpy as np\n",
    "import pandas as pd\n",
    "from sklearn.model_selection import train_test_split\n",
    "class GDLinearRegression:\n",
    "    def __init__(self,learning_rate=0.01,tolerance=1e-8):\n",
    "        self.learning_rate=learning_rate\n",
    "        self.tolerance=tolerance\n",
    "    def fit(self,x,y):\n",
    "        n_samples,n_features=x.shape\n",
    "        self.bias,self.weights=0,np.zeros(n_features)\n",
    "        previous_db,previous_dw=0,np.zeros(n_features)\n",
    "        while True:\n",
    "            y_pred = x @ self.weights + self.bias\n",
    "            db = 1 / n_samples * np.sum(y_pred - y)\n",
    "            dw = 1 / n_samples * x.T @ (y_pred - y)\n",
    "            self.bias -= self.learning_rate * db\n",
    "            self.weights -= self.learning_rate * dw\n",
    "            abs_db_reduction = np.abs(db - previous_db)\n",
    "            abs_dw_reduction = np.abs(dw - previous_dw)\n",
    "            if abs_db_reduction < self.tolerance:\n",
    "                if np.all(abs_dw_reduction < self.tolerance):\n",
    "                    break\n",
    "            previous_db = db\n",
    "            previous_dw = dw\n",
    "    def predict(self,x_test,y_test):\n",
    "        y_pred = x_test @ self.weights + self.bias\n",
    "        mse = 1 / len(y_test) * np.sum(np.square(y_pred - y_test))\n",
    "        up=np.sum(np.square(y_test - y_pred))\n",
    "        down=np.sum(np.square(y_test - np.mean(y_test)))\n",
    "        r2 = 1 - (up/down)\n",
    "        return (f\"pred: {y_pred} test: {y_test}\\nr2: {r2:.2f}\\nmse: {mse:.2f}\")\n",
    "df = pd.read_csv('multiple_linear_regression_dataset.csv')\n",
    "y=df['income']\n",
    "x=df.drop(columns=['income'])\n",
    "x_train, x_test, y_train, y_test = train_test_split(x, y, test_size=0.2, random_state=123)\n",
    "model=GDLinearRegression(learning_rate=0.001,tolerance=1e-6)\n",
    "model.fit(x_train,y_train)\n",
    "result = model.predict(x_test=x_test,y_test=y_test)\n",
    "print(result)\n",
    "\n"
   ]
  }
 ],
 "metadata": {
  "kernelspec": {
   "display_name": "ml-VNEzfB6C-py3.13",
   "language": "python",
   "name": "python3"
  },
  "language_info": {
   "codemirror_mode": {
    "name": "ipython",
    "version": 3
   },
   "file_extension": ".py",
   "mimetype": "text/x-python",
   "name": "python",
   "nbconvert_exporter": "python",
   "pygments_lexer": "ipython3",
   "version": "3.13.0"
  }
 },
 "nbformat": 4,
 "nbformat_minor": 5
}
