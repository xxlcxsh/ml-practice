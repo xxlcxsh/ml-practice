{
 "cells": [
  {
   "cell_type": "markdown",
   "id": "350d4798",
   "metadata": {},
   "source": [
    "logistic reg using breast cancer dataset based on sklearn models"
   ]
  },
  {
   "cell_type": "code",
   "execution_count": 1,
   "id": "2ddb6233",
   "metadata": {},
   "outputs": [
    {
     "name": "stdout",
     "output_type": "stream",
     "text": [
      "ac score: 0.9824561403508771\n",
      "classification report:               precision    recall  f1-score   support\n",
      "\n",
      "           0       1.00      0.95      0.97        41\n",
      "           1       0.97      1.00      0.99        73\n",
      "\n",
      "    accuracy                           0.98       114\n",
      "   macro avg       0.99      0.98      0.98       114\n",
      "weighted avg       0.98      0.98      0.98       114\n",
      "\n",
      "confusin_matrix: [[39  2]\n",
      " [ 0 73]]\n"
     ]
    }
   ],
   "source": [
    "from sklearn.datasets import load_breast_cancer\n",
    "from sklearn.linear_model import LogisticRegression\n",
    "from sklearn.model_selection import train_test_split\n",
    "from sklearn.pipeline import Pipeline\n",
    "from sklearn.metrics import accuracy_score, classification_report, confusion_matrix\n",
    "import seaborn as sns\n",
    "import matplotlib.pyplot as plt\n",
    "import matplotlib\n",
    "matplotlib.use('Agg')\n",
    "x,y=load_breast_cancer(return_X_y=True)\n",
    "x_train,x_test,y_train,y_test=train_test_split(x,y,test_size=0.2,random_state=123)\n",
    "model= LogisticRegression(max_iter=10000)\n",
    "model.fit(x_train,y_train)\n",
    "y_pred = model.predict(x_test)\n",
    "cm = confusion_matrix(y_test,y_pred)\n",
    "plt.figure(figsize=(6, 4))\n",
    "sns.heatmap(cm, annot=True, fmt='d', cmap='Blues',\n",
    "            xticklabels=['Malignant', 'Benign'],\n",
    "            yticklabels=['Malignant', 'Benign'])\n",
    "plt.xlabel('Предсказано')\n",
    "plt.ylabel('Истинное значение')\n",
    "plt.title('Матрица ошибок')\n",
    "plt.savefig(\"confusion_matrix.png\")\n",
    "print(f\"ac score: {accuracy_score(y_test,y_pred)}\")\n",
    "print(f\"classification report: {classification_report(y_test,y_pred)}\")\n",
    "print(f\"confusin_matrix: {cm}\")"
   ]
  },
  {
   "cell_type": "markdown",
   "id": "249c4109",
   "metadata": {},
   "source": [
    "Metrix\n",
    "accuracy score: 0.9824561403508771\n",
    "classification report:\n",
    "               precision    recall  f1-score   support\n",
    "\n",
    "           0       1.00      0.95      0.97        41\n",
    "           1       0.97      1.00      0.99        73\n",
    "\n",
    "    accuracy                           0.98       114\n",
    "   macro avg       0.99      0.98      0.98       114\n",
    "weighted avg       0.98      0.98      0.98       114\n",
    "\n",
    "confusin_matrix: \n",
    "[\n",
    "    [39  2]\n",
    "    [ 0 73]]"
   ]
  }
 ],
 "metadata": {
  "kernelspec": {
   "display_name": "ml-VNEzfB6C-py3.13",
   "language": "python",
   "name": "python3"
  },
  "language_info": {
   "codemirror_mode": {
    "name": "ipython",
    "version": 3
   },
   "file_extension": ".py",
   "mimetype": "text/x-python",
   "name": "python",
   "nbconvert_exporter": "python",
   "pygments_lexer": "ipython3",
   "version": "3.13.0"
  }
 },
 "nbformat": 4,
 "nbformat_minor": 5
}
