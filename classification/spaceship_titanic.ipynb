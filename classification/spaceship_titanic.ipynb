{
 "cells": [
  {
   "cell_type": "markdown",
   "id": "2010afd4",
   "metadata": {},
   "source": [
    "This is a notebook for a kaggle competition: https://www.kaggle.com/competitions/spaceship-titanic/"
   ]
  },
  {
   "cell_type": "code",
   "execution_count": null,
   "id": "346de194",
   "metadata": {},
   "outputs": [],
   "source": [
    "from catboost import CatBoostClassifier\n",
    "import pandas as pd\n",
    "from sklearn.model_selection import GridSearchCV,cross_val_score\n",
    "train_df = pd.read_csv(\"../datasets/classification/spaceship_train.csv\",usecols=['HomePlanet','CryoSleep','Cabin','Destination','Age','VIP','RoomService','FoodCourt','ShoppingMall','Spa','VRDeck','Transported'])\n",
    "y_train=train_df['Transported']\n",
    "x=train_df.drop(columns=['Transported'])\n",
    "x_train = x.copy()\n",
    "cat_cols = ['HomePlanet', 'Cabin', 'Destination']\n",
    "bool_cols = ['CryoSleep', 'VIP']\n",
    "num_cols = [col for col in x_train.columns if col not in cat_cols + bool_cols]\n",
    "x_train[cat_cols] = x_train[cat_cols].fillna('missing')\n",
    "x_train[num_cols] = x_train[num_cols].fillna(x_train[num_cols].mean())\n",
    "x_train[bool_cols] = x_train[bool_cols].fillna(False).astype(int)\n",
    "x_sub=pd.read_csv(\"../datasets/classification/spaceship_test.csv\",usecols=['HomePlanet','CryoSleep','Cabin','Destination','Age','VIP','RoomService','FoodCourt','ShoppingMall','Spa','VRDeck'])\n",
    "x_sub[cat_cols] = x_sub[cat_cols].fillna('missing')\n",
    "x_sub[num_cols] = x_sub[num_cols].fillna(x_train[num_cols].mean())\n",
    "x_sub[bool_cols] = x_sub[bool_cols].fillna(False).astype(int)\n",
    "id_df=pd.read_csv(\"../datasets/classification/spaceship_test.csv\",usecols=['PassengerId'])\n",
    "params={\n",
    "    'depth': [6,7,8],\n",
    "    'iterations':[100,125,150],\n",
    "    'learning_rate':[0.05,0.03],\n",
    "}\n",
    "grid = GridSearchCV(CatBoostClassifier(cat_features=cat_cols,verbose=0),params,cv=5)\n",
    "grid.fit(x_train,y_train)\n",
    "model = grid.best_estimator_\n",
    "print(f\"Лучшие параметры:{grid.best_params_}\")\n",
    "predictions = model.predict(x_sub)\n",
    "submission=pd.DataFrame({\n",
    "    'PassengerId':id_df['PassengerId'],\n",
    "    'Transported': predictions})\n",
    "submission.to_csv('submissions/spaceship_catboost_submission.csv', index=False, encoding='utf-8')\n",
    "scores = cross_val_score(model, x_train, y_train, cv=5)\n",
    "print(\"Оценки на каждом фолде:\", scores)\n",
    "print(\"Среднее качество:\", scores.mean())"
   ]
  },
  {
   "cell_type": "code",
   "execution_count": 14,
   "id": "655ab2d5",
   "metadata": {},
   "outputs": [
    {
     "name": "stdout",
     "output_type": "stream",
     "text": [
      "Параметры: {'clf__max_depth': 11, 'clf__n_estimators': 100} Показатели: 0.7407137152087327\n",
      "Оценки на каждом фолде: [0.72742956 0.73375503 0.73433007 0.75201381 0.75143843]\n",
      "Среднее качество: 0.7397933815116685\n"
     ]
    }
   ],
   "source": [
    "from sklearn.ensemble import RandomForestClassifier\n",
    "import pandas as pd\n",
    "from sklearn.model_selection import GridSearchCV,cross_val_score\n",
    "from sklearn.compose import ColumnTransformer\n",
    "from sklearn.impute import SimpleImputer\n",
    "from sklearn.pipeline import Pipeline\n",
    "from sklearn.preprocessing import OneHotEncoder, OrdinalEncoder, StandardScaler\n",
    "train_df = pd.read_csv(\"../datasets/classification/spaceship_train.csv\",usecols=['HomePlanet','CryoSleep','Cabin','Destination','Age','VIP','RoomService','FoodCourt','ShoppingMall','Spa','VRDeck','Transported'])\n",
    "x_sub=pd.read_csv(\"../datasets/classification/spaceship_test.csv\",usecols=['HomePlanet','CryoSleep','Cabin','Destination','Age','VIP','RoomService','FoodCourt','ShoppingMall','Spa','VRDeck'])\n",
    "y_train=train_df['Transported']\n",
    "x_train=train_df.drop(columns=['Transported'])\n",
    "nom_cols = ['HomePlanet', 'Cabin', 'Destination']\n",
    "ord_cols = ['CryoSleep', 'VIP']\n",
    "ordinal_cats=[[False,True],[False,True]]\n",
    "num_cols = [col for col in x_train.columns if col not in nom_cols + ord_cols]\n",
    "id_df=pd.read_csv(\"../datasets/classification/spaceship_test.csv\",usecols=['PassengerId'])\n",
    "params = {\n",
    "    'clf__n_estimators':[75,90,100,110,125],\n",
    "    'clf__max_depth':range(3,13)\n",
    "}\n",
    "nom_pipeline = Pipeline([\n",
    "    ('imputer',SimpleImputer(strategy='constant',fill_value='Missing')),\n",
    "    ('encoder',OneHotEncoder(handle_unknown='ignore'))\n",
    "])\n",
    "num_pipeline = Pipeline([\n",
    "    ('imputer',SimpleImputer(strategy='median')),\n",
    "    ('scaler',StandardScaler())\n",
    "])\n",
    "ord_pipeline = Pipeline([\n",
    "    ('imputer',SimpleImputer(strategy='constant',fill_value=False)),\n",
    "    ('encoder',OrdinalEncoder(categories=ordinal_cats))\n",
    "])\n",
    "preprocessor = ColumnTransformer(transformers=[\n",
    "    ('num',num_pipeline,num_cols),\n",
    "    ('nom',nom_pipeline,nom_cols),\n",
    "    ('ord',ord_pipeline,ord_cols)\n",
    "])\n",
    "clf = RandomForestClassifier()\n",
    "pipeline = Pipeline([\n",
    "    ('prep',preprocessor),\n",
    "    ('clf',clf)\n",
    "])\n",
    "grid = GridSearchCV(pipeline,params,cv=5,scoring='accuracy')\n",
    "grid.fit(x_train,y_train)\n",
    "print(f\"Параметры: {grid.best_params_} Показатели: {grid.best_score_}\")\n",
    "model = grid.best_estimator_\n",
    "predictions = model.predict(x_sub)\n",
    "submission=pd.DataFrame({\n",
    "    'PassengerId':id_df['PassengerId'],\n",
    "    'Transported': predictions})\n",
    "submission.to_csv('submissions/spaceship_rforest_submission.csv', index=False, encoding='utf-8')\n",
    "scores = cross_val_score(model, x_train, y_train, cv=5)\n",
    "print(\"Оценки на каждом фолде:\", scores)\n",
    "print(\"Среднее качество:\", scores.mean())"
   ]
  }
 ],
 "metadata": {
  "kernelspec": {
   "display_name": "ml-VNEzfB6C-py3.13",
   "language": "python",
   "name": "python3"
  },
  "language_info": {
   "codemirror_mode": {
    "name": "ipython",
    "version": 3
   },
   "file_extension": ".py",
   "mimetype": "text/x-python",
   "name": "python",
   "nbconvert_exporter": "python",
   "pygments_lexer": "ipython3",
   "version": "3.13.0"
  }
 },
 "nbformat": 4,
 "nbformat_minor": 5
}
