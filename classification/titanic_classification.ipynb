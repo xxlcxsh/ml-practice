{
 "cells": [
  {
   "cell_type": "markdown",
   "id": "ae945d73",
   "metadata": {},
   "source": [
    "classification models using titanic dataset based on sklearn models"
   ]
  },
  {
   "cell_type": "markdown",
   "id": "5210345c",
   "metadata": {},
   "source": [
    "Survived - answer\n",
    "Pclass (класс пассажира) - numeric 3>2>1\n",
    "Sex - nominal\n",
    "Age - numeric\n",
    "SibSp (братья/сестры) - numeric\n",
    "Parch (родители/дети) - numeric\n",
    "Fare (стоимость проезда) - numeric \n",
    "Cabin - nominal\n",
    "Embarked - nominal "
   ]
  },
  {
   "cell_type": "code",
   "execution_count": 7,
   "id": "abdf3571",
   "metadata": {},
   "outputs": [
    {
     "name": "stdout",
     "output_type": "stream",
     "text": [
      "Лучшие параметры: {'clf__max_depth': 12, 'clf__n_estimators': 100}\n",
      "Лучшие показатели: 0.8305316678174627\n",
      "accuracy_score: 0.8827751196172249\n",
      "classification_report:               precision    recall  f1-score   support\n",
      "\n",
      "           0       0.88      0.95      0.91       266\n",
      "           1       0.90      0.76      0.83       152\n",
      "\n",
      "    accuracy                           0.88       418\n",
      "   macro avg       0.89      0.86      0.87       418\n",
      "weighted avg       0.88      0.88      0.88       418\n",
      "\n",
      "confusion_matrix: [[253  13]\n",
      " [ 36 116]]\n"
     ]
    }
   ],
   "source": [
    "from sklearn.impute import SimpleImputer\n",
    "from sklearn.metrics import accuracy_score, classification_report, confusion_matrix\n",
    "from sklearn.ensemble import RandomForestClassifier\n",
    "from sklearn.model_selection import GridSearchCV\n",
    "from sklearn.preprocessing import OneHotEncoder,StandardScaler\n",
    "from sklearn.compose import ColumnTransformer\n",
    "from sklearn.pipeline import Pipeline\n",
    "import pandas as pd\n",
    "params={\n",
    "    'clf__n_estimators':[75,90,100,110,125],\n",
    "    'clf__max_depth':range(3,13)\n",
    "}\n",
    "columns=['Survived','Pclass','Sex','Age','SibSp','Parch','Fare','Cabin','Embarked']\n",
    "df = pd.read_csv(\"../datasets/classification/titanic_train.csv\",usecols=columns)\n",
    "feature_cols=['Pclass','Sex','Age','SibSp','Parch','Fare','Cabin','Embarked']\n",
    "test_cols=['Pclass','Sex','Age','SibSp','Parch','Fare','Cabin','Embarked']\n",
    "test_df_x,test_df_y = pd.read_csv(\"../datasets/classification/titanic_test.csv\",usecols=test_cols),pd.read_csv(\"../datasets/classification/titanic_gender_submission.csv\")\n",
    "y_test=test_df_y.drop(columns=['PassengerId'])\n",
    "x_test=test_df_x.copy()\n",
    "nom_col=['Sex','Cabin','Embarked']\n",
    "num_col=[col for col in feature_cols if col not in nom_col]\n",
    "y_train,x_train=df['Survived'],df.drop(columns=['Survived'])\n",
    "num_imputer= SimpleImputer(strategy='median')\n",
    "cat_imputer = SimpleImputer(strategy='constant', fill_value='missing')\n",
    "num_pipeline = Pipeline([\n",
    "    ('imputer', num_imputer),\n",
    "    ('scaler', StandardScaler())])\n",
    "cat_pipeline = Pipeline([\n",
    "    ('imputer', cat_imputer),\n",
    "    ('encoder', OneHotEncoder(handle_unknown='ignore'))])\n",
    "preprocessor = ColumnTransformer(transformers=[\n",
    "    ('num', num_pipeline, num_col),\n",
    "    ('cat', cat_pipeline, nom_col)])\n",
    "pipeline = Pipeline([\n",
    "    ('prep',preprocessor),\n",
    "    ('clf',RandomForestClassifier())])\n",
    "grid = GridSearchCV(pipeline,params,cv=5,scoring='accuracy')\n",
    "grid.fit(x_train,y_train)\n",
    "model = grid.best_estimator_\n",
    "y_pred = model.predict(x_test)\n",
    "print(f\"Лучшие параметры: {grid.best_params_}\\nЛучшие показатели: {grid.best_score_}\")\n",
    "print(f\"accuracy_score: {accuracy_score(y_test,y_pred)}\")\n",
    "print(f\"classification_report: {classification_report(y_test,y_pred)}\")\n",
    "print(f\"confusion_matrix: {confusion_matrix(y_test,y_pred)}\")\n",
    "submission = pd.DataFrame({\n",
    "    'PassengerId': test_df_y['PassengerId'],\n",
    "    'Survived': y_pred\n",
    "})\n",
    "submission.to_csv('submission.csv', index=False)"
   ]
  }
 ],
 "metadata": {
  "kernelspec": {
   "display_name": "ml-VNEzfB6C-py3.13",
   "language": "python",
   "name": "python3"
  },
  "language_info": {
   "codemirror_mode": {
    "name": "ipython",
    "version": 3
   },
   "file_extension": ".py",
   "mimetype": "text/x-python",
   "name": "python",
   "nbconvert_exporter": "python",
   "pygments_lexer": "ipython3",
   "version": "3.13.0"
  }
 },
 "nbformat": 4,
 "nbformat_minor": 5
}
