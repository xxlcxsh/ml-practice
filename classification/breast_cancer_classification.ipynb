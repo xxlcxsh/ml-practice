{
 "cells": [
  {
   "cell_type": "markdown",
   "id": "350d4798",
   "metadata": {},
   "source": [
    "classification models using breast cancer dataset based on sklearn models:\n",
    "LogisticRegression, DecisionTreeClassifier, KNeighborsClassifier, RandomForestClassifier, GradientBoostingClassifier"
   ]
  },
  {
   "cell_type": "code",
   "execution_count": null,
   "id": "2ddb6233",
   "metadata": {},
   "outputs": [],
   "source": [
    "from sklearn.datasets import load_breast_cancer\n",
    "from sklearn.linear_model import LogisticRegression\n",
    "from sklearn.model_selection import train_test_split\n",
    "from sklearn.pipeline import Pipeline\n",
    "from sklearn.metrics import accuracy_score, classification_report, confusion_matrix\n",
    "x,y=load_breast_cancer(return_X_y=True)\n",
    "x_train,x_test,y_train,y_test=train_test_split(x,y,test_size=0.2,random_state=123)\n",
    "model= LogisticRegression(max_iter=10000)\n",
    "model.fit(x_train,y_train)\n",
    "y_pred = model.predict(x_test)\n",
    "print(f\"ac score: {accuracy_score(y_test,y_pred)}\")\n",
    "print(f\"classification report: {classification_report(y_test,y_pred)}\")\n",
    "print(f\"confusin_matrix: {confusion_matrix(y_test,y_pred)}\")"
   ]
  },
  {
   "cell_type": "code",
   "execution_count": null,
   "id": "042245d4",
   "metadata": {},
   "outputs": [],
   "source": [
    "from sklearn.metrics import accuracy_score, classification_report, confusion_matrix\n",
    "from sklearn.datasets import load_breast_cancer\n",
    "from sklearn.model_selection import train_test_split\n",
    "from sklearn.tree import DecisionTreeClassifier\n",
    "from sklearn.model_selection import GridSearchCV\n",
    "x,y=load_breast_cancer(return_X_y=True)\n",
    "x_train,x_test,y_train,y_test=train_test_split(x,y,test_size=0.2,random_state=123)\n",
    "param={'max_depth':range(1,20)}\n",
    "grid = GridSearchCV(DecisionTreeClassifier(), param, cv=5)\n",
    "grid.fit(x_train,y_train)\n",
    "print(f\"Лучшая глубина: {grid.best_params_}\")\n",
    "model = grid.best_estimator_\n",
    "y_pred=model.predict(x_test)\n",
    "print(f\"ac score: {accuracy_score(y_test,y_pred)}\")\n",
    "print(f\"classification report: {classification_report(y_test,y_pred)}\")\n",
    "print(f\"confusin_matrix: {confusion_matrix(y_test,y_pred)}\")"
   ]
  },
  {
   "cell_type": "code",
   "execution_count": null,
   "id": "3ca1857f",
   "metadata": {},
   "outputs": [],
   "source": [
    "from sklearn.metrics import accuracy_score, classification_report, confusion_matrix\n",
    "from sklearn.datasets import load_breast_cancer\n",
    "from sklearn.model_selection import train_test_split\n",
    "from sklearn.neighbors import KNeighborsClassifier\n",
    "from sklearn.model_selection import GridSearchCV\n",
    "x,y=load_breast_cancer(return_X_y=True)\n",
    "x_train,x_test,y_train,y_test=train_test_split(x,y,test_size=0.2,random_state=123)\n",
    "param={'n_neighbors': range(1,31)}\n",
    "grid = GridSearchCV(KNeighborsClassifier(),param,cv=5)\n",
    "grid.fit(x_train,y_train)\n",
    "print(f\"Лучший параметр K: {grid.best_params_}\")\n",
    "model = grid.best_estimator_\n",
    "y_pred=model.predict(x_test)\n",
    "print(f\"accuracy_score: {accuracy_score(y_test,y_pred)}\")\n",
    "print(f\"classification_report: {classification_report(y_test,y_pred)}\")\n",
    "print(f\"confusion_matrix: {confusion_matrix(y_test,y_pred)}\")"
   ]
  },
  {
   "cell_type": "code",
   "execution_count": null,
   "id": "143ed8c0",
   "metadata": {},
   "outputs": [],
   "source": [
    "from sklearn.metrics import accuracy_score, classification_report, confusion_matrix\n",
    "from sklearn.datasets import load_breast_cancer\n",
    "from sklearn.model_selection import train_test_split\n",
    "from sklearn.ensemble import RandomForestClassifier\n",
    "from sklearn.model_selection import GridSearchCV\n",
    "x,y=load_breast_cancer(return_X_y=True)\n",
    "x_train,x_test,y_train,y_test=train_test_split(x,y,test_size=0.2,random_state=123)\n",
    "params = {'max_depth': range(1,10),\n",
    "          'n_estimators': range(100,101)}\n",
    "grid = GridSearchCV(RandomForestClassifier(),params,cv=5)\n",
    "grid.fit(x_train,y_train)\n",
    "print(grid.best_params_)\n",
    "model=grid.best_estimator_\n",
    "y_pred=model.predict(x_test)\n",
    "print(f\"accuracy_score: {accuracy_score(y_test,y_pred)}\")\n",
    "print(f\"classification_report: {classification_report(y_test,y_pred)}\")\n",
    "print(f\"confusion_matrix: {confusion_matrix(y_test,y_pred)}\")"
   ]
  },
  {
   "cell_type": "code",
   "execution_count": null,
   "id": "3dc7ecbc",
   "metadata": {},
   "outputs": [],
   "source": [
    "from sklearn.metrics import accuracy_score, classification_report, confusion_matrix\n",
    "from sklearn.datasets import load_breast_cancer\n",
    "from sklearn.model_selection import train_test_split\n",
    "from sklearn.ensemble import GradientBoostingClassifier\n",
    "from sklearn.model_selection import GridSearchCV\n",
    "import numpy as np\n",
    "x,y=load_breast_cancer(return_X_y=True)\n",
    "x_train,x_test,y_train,y_test=train_test_split(x,y,test_size=0.2,random_state=123)\n",
    "params = {'max_depth': range(1,5),\n",
    "          'learning_rate': [0.1],\n",
    "          'n_estimators': [75]}\n",
    "grid = GridSearchCV(GradientBoostingClassifier(),params,cv=5)\n",
    "grid.fit(x_train,y_train)\n",
    "print(grid.best_params_)\n",
    "model = grid.best_estimator_\n",
    "y_pred = model.predict(x_test)\n",
    "print(f\"accuracy_score: {accuracy_score(y_test,y_pred)}\")\n",
    "print(f\"classification_report: {classification_report(y_test,y_pred)}\")\n",
    "print(f\"confusion_matrix: {confusion_matrix(y_test,y_pred)}\")"
   ]
  }
 ],
 "metadata": {
  "kernelspec": {
   "display_name": "ml-VNEzfB6C-py3.13",
   "language": "python",
   "name": "python3"
  },
  "language_info": {
   "codemirror_mode": {
    "name": "ipython",
    "version": 3
   },
   "file_extension": ".py",
   "mimetype": "text/x-python",
   "name": "python",
   "nbconvert_exporter": "python",
   "pygments_lexer": "ipython3",
   "version": "3.13.0"
  }
 },
 "nbformat": 4,
 "nbformat_minor": 5
}
