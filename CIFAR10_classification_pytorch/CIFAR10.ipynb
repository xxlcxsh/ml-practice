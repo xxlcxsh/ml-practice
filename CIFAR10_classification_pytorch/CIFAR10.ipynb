{
 "cells": [
  {
   "cell_type": "code",
   "execution_count": null,
   "id": "a4ccabe5",
   "metadata": {},
   "outputs": [
    {
     "name": "stdout",
     "output_type": "stream",
     "text": [
      "Using device: cpu\n",
      "EPOCH: 1 - avg loss: 1.5760466061589662, accuracy: 32.57%\n",
      "EPOCH: 2 - avg loss: 1.274059700843928, accuracy: 41.05%\n",
      "EPOCH: 3 - avg loss: 1.1708446024628856, accuracy: 43.5%\n",
      "EPOCH: 4 - avg loss: 1.089306948130088, accuracy: 47.08%\n",
      "EPOCH: 5 - avg loss: 1.0253001578018794, accuracy: 57.120000000000005%\n",
      "EPOCH: 6 - avg loss: 0.9903338365542614, accuracy: 48.64%\n",
      "EPOCH: 7 - avg loss: 0.9545611623303055, accuracy: 51.31%\n",
      "EPOCH: 8 - avg loss: 0.9309909297987018, accuracy: 52.959999999999994%\n",
      "EPOCH: 9 - avg loss: 0.9013011524134584, accuracy: 53.080000000000005%\n",
      "EPOCH: 10 - avg loss: 0.8866805261968042, accuracy: 61.029999999999994%\n"
     ]
    }
   ],
   "source": [
    "import torch.nn as nn\n",
    "from torch.utils.data import DataLoader\n",
    "from torchvision import datasets,transforms\n",
    "import torch.optim as optim\n",
    "import torch\n",
    "y=[]\n",
    "device = torch.device('cuda' if torch.cuda.is_available() else 'cpu')\n",
    "print(f'Using device: {device}')\n",
    "train_transform = transforms.Compose([\n",
    "    transforms.RandomHorizontalFlip(p=0.5),\n",
    "    transforms.RandomRotation(degrees=10),\n",
    "    transforms.RandomCrop(size=32,padding=4),\n",
    "    transforms.ColorJitter(brightness=0.2, contrast=0.2, saturation=0.2),\n",
    "    transforms.ToTensor(),\n",
    "    transforms.Normalize((0.4914, 0.4822, 0.4465), (0.2470, 0.2435, 0.2616))])\n",
    "test_transform = transforms.Compose([\n",
    "    transforms.ToTensor(),\n",
    "    transforms.Normalize((0.5),(0.5))])\n",
    "train_dataset=datasets.CIFAR10('./data',train=True,download=True,transform=train_transform)\n",
    "test_dataset = datasets.CIFAR10('./data',train=False,download=True,transform=test_transform)\n",
    "train_loader = DataLoader(dataset=train_dataset,batch_size=128,shuffle=True)\n",
    "test_loader = DataLoader(dataset=test_dataset,batch_size=1000,shuffle=False)\n",
    "model = nn.Sequential(\n",
    "    nn.Conv2d(3,16,3,1,1),\n",
    "    nn.BatchNorm2d(16),\n",
    "    nn.ReLU(),\n",
    "    nn.MaxPool2d(2,2),\n",
    "    nn.Conv2d(16,32,3,1,1),\n",
    "    nn.BatchNorm2d(32),\n",
    "    nn.ReLU(),\n",
    "    nn.MaxPool2d(2,2),\n",
    "    nn.Conv2d(32, 64, 3, 1, 1),\n",
    "    nn.BatchNorm2d(64),\n",
    "    nn.ReLU(),\n",
    "    nn.MaxPool2d(2,2),\n",
    "    nn.Flatten(),\n",
    "    nn.Linear(64*4*4,128),\n",
    "    nn.ReLU(),\n",
    "    nn.Dropout(0.15),\n",
    "    nn.Linear(128,10)\n",
    ").to(device)\n",
    "optimizer = optim.Adam(model.parameters(),lr=0.001)\n",
    "loss_func = nn.CrossEntropyLoss()\n",
    "EPOCHS = 10\n",
    "for epoch in range(EPOCHS):\n",
    "    model.train()\n",
    "    total_loss = 0\n",
    "    for images,labels in train_loader:\n",
    "        images,labels=images.to(device),labels.to(device)\n",
    "        optimizer.zero_grad()\n",
    "        outputs = model(images)\n",
    "        loss = loss_func(outputs,labels)\n",
    "        loss.backward()\n",
    "        optimizer.step()\n",
    "        total_loss += loss.item()\n",
    "    avg_loss = total_loss / len(train_loader)\n",
    "    model.eval()\n",
    "    total,correct=0,0\n",
    "    with torch.no_grad():\n",
    "        for images,labels in test_loader:\n",
    "             images,labels=images.to(device),labels.to(device)\n",
    "             outputs = model(images)\n",
    "             pred = torch.argmax(outputs,dim=1)\n",
    "             correct += (pred == labels).sum().item()\n",
    "             total += labels.size(0)\n",
    "        accuracy = correct / total * 100\n",
    "        print(f\"EPOCH: {epoch+1} - avg loss: {avg_loss}, accuracy: {accuracy}%\")"
   ]
  }
 ],
 "metadata": {
  "kernelspec": {
   "display_name": "ml-VNEzfB6C-py3.13",
   "language": "python",
   "name": "python3"
  },
  "language_info": {
   "codemirror_mode": {
    "name": "ipython",
    "version": 3
   },
   "file_extension": ".py",
   "mimetype": "text/x-python",
   "name": "python",
   "nbconvert_exporter": "python",
   "pygments_lexer": "ipython3",
   "version": "3.13.0"
  }
 },
 "nbformat": 4,
 "nbformat_minor": 5
}
